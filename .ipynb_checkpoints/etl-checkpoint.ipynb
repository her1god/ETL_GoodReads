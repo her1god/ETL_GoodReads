{
 "cells": [
  {
   "cell_type": "markdown",
   "id": "9930511a-3dd2-4a97-8bfb-4fb8b729d5d9",
   "metadata": {},
   "source": [
    "** EXTRACT **"
   ]
  },
  {
   "cell_type": "code",
   "execution_count": 400,
   "id": "eb322b99-0cdb-4fc6-af46-e6ec13173d15",
   "metadata": {},
   "outputs": [
    {
     "name": "stdout",
     "output_type": "stream",
     "text": [
      "   book_id                                    cover_image_uri  \\\n",
      "0        1  https://images-na.ssl-images-amazon.com/images...   \n",
      "1        2  https://images-na.ssl-images-amazon.com/images...   \n",
      "2        3  https://images-na.ssl-images-amazon.com/images...   \n",
      "3        5  https://images-na.ssl-images-amazon.com/images...   \n",
      "4        6  https://images-na.ssl-images-amazon.com/images...   \n",
      "\n",
      "                                  book_title  \\\n",
      "0     Harry Potter and the Half-Blood Prince   \n",
      "1  Harry Potter and the Order of the Phoenix   \n",
      "2      Harry Potter and the Sorcerer's Stone   \n",
      "3   Harry Potter and the Prisoner of Azkaban   \n",
      "4        Harry Potter and the Goblet of Fire   \n",
      "\n",
      "                                        book_details  \\\n",
      "0  It is the middle of the summer, but there is a...   \n",
      "1  Harry Potter is about to start his fifth year ...   \n",
      "2  Harry Potter has no idea how famous he is. Tha...   \n",
      "3  Harry Potter, along with his best friends, Ron...   \n",
      "4  It is the summer holidays and soon Harry Potte...   \n",
      "\n",
      "                                 format                   publication_info  \\\n",
      "0              ['652 pages, Paperback']  ['First published July 16, 2005']   \n",
      "1              ['912 pages, Paperback']  ['First published June 21, 2003']   \n",
      "2              ['309 pages, Hardcover']  ['First published June 26, 1997']   \n",
      "3  ['435 pages, Mass Market Paperback']   ['First published July 8, 1999']   \n",
      "4              ['734 pages, Paperback']   ['First published July 8, 2000']   \n",
      "\n",
      "                                          authorlink        author num_pages  \\\n",
      "0  https://www.goodreads.com/author/show/1077326....  J.K. Rowling   ['652']   \n",
      "1  https://www.goodreads.com/author/show/1077326....  J.K. Rowling   ['912']   \n",
      "2  https://www.goodreads.com/author/show/1077326....  J.K. Rowling   ['309']   \n",
      "3  https://www.goodreads.com/author/show/1077326....  J.K. Rowling   ['435']   \n",
      "4  https://www.goodreads.com/author/show/1077326....  J.K. Rowling   ['734']   \n",
      "\n",
      "                                              genres  num_ratings  \\\n",
      "0  ['Fantasy', 'Young Adult', 'Fiction', 'Magic',...      3292516   \n",
      "1  ['Young Adult', 'Fiction', 'Magic', 'Childrens...      3401709   \n",
      "2  ['Fantasy', 'Fiction', 'Young Adult', 'Magic',...     10116247   \n",
      "3  ['Fantasy', 'Fiction', 'Young Adult', 'Magic',...      4215031   \n",
      "4  ['Fantasy', 'Young Adult', 'Fiction', 'Magic',...      3718209   \n",
      "\n",
      "   num_reviews  average_rating  \\\n",
      "0        58398            4.58   \n",
      "1        64300            4.50   \n",
      "2       163493            4.47   \n",
      "3        84959            4.58   \n",
      "4        69961            4.57   \n",
      "\n",
      "                                 rating_distribution  \n",
      "0  {'5': '2,244,154', '4': '775,028', '3': '219,8...  \n",
      "1  {'5': '2,178,760', '4': '856,178', '3': '293,2...  \n",
      "2  {'5': '6,544,542', '4': '2,348,390', '3': '856...  \n",
      "3  {'5': '2,892,322', '4': '970,190', '3': '287,7...  \n",
      "4  {'5': '2,500,070', '4': '899,496', '3': '259,7...  \n"
     ]
    }
   ],
   "source": [
    "import pandas as pd\n",
    "\n",
    "# Membaca data dari file CSV\n",
    "book_details = pd.read_csv('Book_details.csv', index_col=0)\n",
    "print(book_details.head())"
   ]
  },
  {
   "cell_type": "code",
   "execution_count": 117,
   "id": "84ab7c3d-ae91-4de5-88cb-9fcaa3f65997",
   "metadata": {},
   "outputs": [
    {
     "name": "stdout",
     "output_type": "stream",
     "text": [
      "Tabel di book_reviews.db:\n",
      "           name\n",
      "0  book_reviews \n",
      "\n",
      "    book_id reviewer_id                   reviewer_name likes_on_review  \\\n",
      "0  57094644   114413220                           Sofia       582 likes   \n",
      "1  57094644    48328025                   megs_bookrack       329 likes   \n",
      "2  57094644     6728955                          Mariah       232 likes   \n",
      "3  57094644   101179363  ale (semi hiatus) ‧ ₊˚୨ ♡ ୧ ₊˚       218 likes   \n",
      "4   2948832    48727754                          chan ☆       174 likes   \n",
      "\n",
      "                                      review_content reviewer_followers  \\\n",
      "0  Just when you thought he was done writing book...    7,961 followers   \n",
      "1  Would you be shocked if I told you this was th...    12.1k followers   \n",
      "2  So you're telling me Anaisn'ta Daughter of Pos...      490 followers   \n",
      "3  *inserts vine \"anything for you, beyoncé\"*upda...    2,709 followers   \n",
      "4  i was excited about this one since it was so w...    55.1k followers   \n",
      "\n",
      "  reviewer_total_reviews        review_date      review_rating  \n",
      "0            234 reviews  February 24, 2021               None  \n",
      "1          1,802 reviews     March 17, 2024  Rating 5 out of 5  \n",
      "2          1,263 reviews  September 5, 2022  Rating 3 out of 5  \n",
      "3            458 reviews       June 3, 2021               None  \n",
      "4          1,139 reviews       June 9, 2021  Rating 2 out of 5  \n"
     ]
    }
   ],
   "source": [
    "import sqlite3\n",
    "\n",
    "# Membuka koneksi ke database SQLite\n",
    "conn_reviews = sqlite3.connect('book_reviews.db')\n",
    "\n",
    "# Mendapatkan daftar tabel\n",
    "tables_query = \"SELECT name FROM sqlite_master WHERE type='table';\"\n",
    "tables_reviews = pd.read_sql_query(tables_query, conn_reviews)\n",
    "print(\"Tabel di book_reviews.db:\")\n",
    "print(tables_reviews, \"\\n\")\n",
    "\n",
    "# Membaca tabel dengan nama yang diketahui (asumsi tabelnya bernama 'reviews')\n",
    "reviews_query = \"SELECT * FROM book_reviews\"\n",
    "book_reviews = pd.read_sql_query(reviews_query, conn_reviews)\n",
    "print(book_reviews.head())\n",
    "\n",
    "# Menutup koneksi\n",
    "conn_reviews.close()\n"
   ]
  },
  {
   "cell_type": "code",
   "execution_count": 3,
   "id": "83d0ea50-4ea3-4810-a24a-86e4c41a6a6e",
   "metadata": {},
   "outputs": [
    {
     "name": "stdout",
     "output_type": "stream",
     "text": [
      "Tables in books.db:\n",
      "    name\n",
      "0  books \n",
      "\n",
      "       id            title  total_books  total_votes\n",
      "0  345627  Best Books Ever       122608       256088\n",
      "1    7624  Best Books Ever       122608       256088\n",
      "2   17245  Best Books Ever       122608       256088\n",
      "3   39988  Best Books Ever       122608       256088\n",
      "4   19063  Best Books Ever       122608       256088\n"
     ]
    }
   ],
   "source": [
    "# Membuka koneksi ke database SQLite\n",
    "conn_books = sqlite3.connect('books.db')\n",
    "\n",
    "# Mendapatkan daftar tabel\n",
    "tables_query = \"SELECT name FROM sqlite_master WHERE type='table';\"\n",
    "tables_books = pd.read_sql_query(tables_query, conn_books)\n",
    "print(\"Tables in books.db:\")\n",
    "print(tables_books, \"\\n\")\n",
    "\n",
    "# Membaca tabel dengan nama yang diketahui (asumsi tabelnya bernama 'books')\n",
    "books_query = \"SELECT * FROM books\"\n",
    "books = pd.read_sql_query(books_query, conn_books)\n",
    "print(books.head())\n",
    "\n",
    "# Menutup koneksi\n",
    "conn_books.close()\n"
   ]
  },
  {
   "cell_type": "code",
   "execution_count": 4,
   "id": "fce3ace7-e00a-477e-ac50-1e33250b75ac",
   "metadata": {},
   "outputs": [
    {
     "data": {
      "text/plain": [
       "id              int64\n",
       "title          object\n",
       "total_books     int64\n",
       "total_votes     int64\n",
       "dtype: object"
      ]
     },
     "execution_count": 4,
     "metadata": {},
     "output_type": "execute_result"
    }
   ],
   "source": [
    "books.dtypes"
   ]
  },
  {
   "cell_type": "code",
   "execution_count": 5,
   "id": "0f135e16-8a49-4945-9d52-2e65fec6b3cc",
   "metadata": {},
   "outputs": [
    {
     "data": {
      "text/plain": [
       "id             0\n",
       "title          0\n",
       "total_books    0\n",
       "total_votes    0\n",
       "dtype: int64"
      ]
     },
     "execution_count": 5,
     "metadata": {},
     "output_type": "execute_result"
    }
   ],
   "source": [
    "books.isnull().sum()"
   ]
  },
  {
   "cell_type": "markdown",
   "id": "d2f23eaa-a809-4ce1-b2e6-a68a7326d086",
   "metadata": {},
   "source": [
    "** TRANSFORM **"
   ]
  },
  {
   "cell_type": "code",
   "execution_count": 395,
   "id": "33215098-c22a-4624-b5e2-f8c4b3b9c909",
   "metadata": {},
   "outputs": [
    {
     "data": {
      "text/plain": [
       "book_id                         int64\n",
       "cover_image_uri                object\n",
       "book_title                     object\n",
       "book_details                   object\n",
       "format                         object\n",
       "publication_info       datetime64[ns]\n",
       "authorlink                     object\n",
       "author                         object\n",
       "num_pages                       int32\n",
       "genres                         object\n",
       "num_ratings                     int64\n",
       "num_reviews                     int64\n",
       "average_rating                float64\n",
       "rating_distribution            object\n",
       "dtype: object"
      ]
     },
     "execution_count": 395,
     "metadata": {},
     "output_type": "execute_result"
    }
   ],
   "source": [
    "book_details.dtypes"
   ]
  },
  {
   "cell_type": "code",
   "execution_count": 382,
   "id": "fec85543-adb6-4b2d-ac08-74e74d6316ed",
   "metadata": {},
   "outputs": [],
   "source": [
    "#sekarang ubah publication_info jadi date dan ubah format nya jadi y-m-d dan hilangkan kata\" nya\n",
    "\n",
    "# Menghapus kata \"First published\" dan tanda kurung dari setiap entri\n",
    "book_details['publication_info'] = book_details['publication_info'].str.replace(r'\\[.*published\\s+', '', regex=True).str.strip(\"']\")\n",
    "\n",
    "# Membuat fungsi untuk mengubah format tanggal\n",
    "def convert_date(date_str):\n",
    "    try:\n",
    "        return pd.to_datetime(date_str, format='%B %d, %Y')\n",
    "    except ValueError:\n",
    "        return pd.NaT  # Mengembalikan NaT (Not a Time) untuk entri yang tidak dapat diubah\n",
    "\n",
    "# Mengubah format tanggal\n",
    "book_details['publication_info'] = book_details['publication_info'].apply(convert_date)\n",
    "# Menghapus baris yang mengandung nilai NaT\n",
    "book_details = book_details.dropna(subset=['publication_info'])"
   ]
  },
  {
   "cell_type": "code",
   "execution_count": 394,
   "id": "08f1b695-f113-42d2-9f3f-eb47d1126ef9",
   "metadata": {},
   "outputs": [
    {
     "name": "stdout",
     "output_type": "stream",
     "text": [
      "['Paperback' 'Hardcover' 'Market Paperback' 'Unknown Binding' 'Audio CD'\n",
      " 'Board book' '512 pages' 'Trade Paperback' 'Library Binding'\n",
      " 'Kindle Edition' '188 pages' 'Audio Cassette' 'Audiobook'\n",
      " 'Slipcased Hardcover' '156 pages' 'ebook' 'Dust Jacket' 'MP3 CD' 'paper'\n",
      " 'Perfect Paperback' '237 pages' '160 pages' 'Comics' 'Pocket Book'\n",
      " '290 pages' '24 pages' nan 'Leather Bound' 'Board Book' 'cloth' 'Diary'\n",
      " '314 pages' 'Audio Play' '376 pages' 'Pew Edition' '32 pages' '600 pages'\n",
      " '810 pages' 'Comic' '256 pages' 'Audiocd' 'Textbook Binding'\n",
      " 'Market Paberback' '204 pages' 'Audio' 'Brochura' '107 pages' '221 pages'\n",
      " '384 pages' '224 pages' '400 pages' '30 pages' 'Hardback' '231 pages'\n",
      " 'paperback' '158 pages' '76 pages' 'Podiobook' '236 pages' '27 pages'\n",
      " '264 pages' '146 pages' 'MP3 Audio' '399 pages' 'softcover' '280 pages'\n",
      " '447 pages' 'Novel' 'web' '48 pages' '456 pages' '675 pages' '196 pages'\n",
      " '250 pages' 'Paperback Shinsho' '207 pages' '287 pages' '18 pages'\n",
      " '2940 pages' 'Nook' 'MP3 Book' '200 pages' 'Paper' '390 pages' 'Unbound'\n",
      " '108 pages' '291 pages' '92 pages' '46 pages' 'Audible Audio' '168 pages'\n",
      " '404 pages' 'Webnovel' '82 pages' '25 pages' '336 pages' '591 pages'\n",
      " '569 pages']\n"
     ]
    }
   ],
   "source": [
    "print(book_details[\"format\"].unique())"
   ]
  },
  {
   "cell_type": "code",
   "execution_count": 401,
   "id": "f65fd987-dad0-4351-ae5e-943dc8bae82f",
   "metadata": {},
   "outputs": [
    {
     "name": "stdout",
     "output_type": "stream",
     "text": [
      "5396                 ['187 pages, Paperback ']\n",
      "6059     ['486 pages, Mass Market Paperback ']\n",
      "10582                       ['264 pages, A 5']\n",
      "Name: format, dtype: object\n"
     ]
    }
   ],
   "source": [
    "# ID dari baris dengan tanggal '1999-09-21', '2003-06-02', dan '2002-07-25'\n",
    "ids = [5396, 6059, 10582]\n",
    "\n",
    "# Tampilkan nilai kolom 'publication_info' untuk ID yang ditemukan\n",
    "print(book_details.loc[ids, 'format'])"
   ]
  },
  {
   "cell_type": "code",
   "execution_count": 402,
   "id": "6e8f993c-9ab5-4b75-95b0-208f1d77bfb1",
   "metadata": {},
   "outputs": [
    {
     "data": {
      "text/plain": [
       "0                ['652 pages, Paperback']\n",
       "1                ['912 pages, Paperback']\n",
       "2                ['309 pages, Hardcover']\n",
       "3    ['435 pages, Mass Market Paperback']\n",
       "4                ['734 pages, Paperback']\n",
       "Name: format, dtype: object"
      ]
     },
     "execution_count": 402,
     "metadata": {},
     "output_type": "execute_result"
    }
   ],
   "source": [
    "book_details[\"format\"].head()"
   ]
  },
  {
   "cell_type": "code",
   "execution_count": 392,
   "id": "dbebc960-f112-415c-a8b0-c828cc8ce285",
   "metadata": {},
   "outputs": [
    {
     "ename": "AttributeError",
     "evalue": "Can only use .str accessor with string values!",
     "output_type": "error",
     "traceback": [
      "\u001b[1;31m---------------------------------------------------------------------------\u001b[0m",
      "\u001b[1;31mAttributeError\u001b[0m                            Traceback (most recent call last)",
      "Cell \u001b[1;32mIn[392], line 11\u001b[0m\n\u001b[0;32m      1\u001b[0m \u001b[38;5;66;03m# # Mengekstrak jumlah halaman dan menghilangkan tanda kurung dan kutip\u001b[39;00m\n\u001b[0;32m      2\u001b[0m \u001b[38;5;66;03m# book_details['num_pages'] = book_details['num_pages'].str.strip(\"[]'\")\u001b[39;00m\n\u001b[0;32m      3\u001b[0m \n\u001b[1;32m   (...)\u001b[0m\n\u001b[0;32m      9\u001b[0m \n\u001b[0;32m     10\u001b[0m \u001b[38;5;66;03m# Menghilangkan tanda kurung siku dari kolom num_pages\u001b[39;00m\n\u001b[1;32m---> 11\u001b[0m book_details[\u001b[38;5;124m'\u001b[39m\u001b[38;5;124mnum_pages\u001b[39m\u001b[38;5;124m'\u001b[39m] \u001b[38;5;241m=\u001b[39m \u001b[43mbook_details\u001b[49m\u001b[43m[\u001b[49m\u001b[38;5;124;43m'\u001b[39;49m\u001b[38;5;124;43mnum_pages\u001b[39;49m\u001b[38;5;124;43m'\u001b[39;49m\u001b[43m]\u001b[49m\u001b[38;5;241;43m.\u001b[39;49m\u001b[43mstr\u001b[49m\u001b[38;5;241m.\u001b[39mstrip(\u001b[38;5;124m\"\u001b[39m\u001b[38;5;124m[]\u001b[39m\u001b[38;5;124m'\u001b[39m\u001b[38;5;124m\"\u001b[39m)\n\u001b[0;32m     13\u001b[0m \u001b[38;5;66;03m# Mengekstrak format\u001b[39;00m\n\u001b[0;32m     14\u001b[0m book_details[\u001b[38;5;124m'\u001b[39m\u001b[38;5;124mformat\u001b[39m\u001b[38;5;124m'\u001b[39m] \u001b[38;5;241m=\u001b[39m book_details[\u001b[38;5;124m'\u001b[39m\u001b[38;5;124mformat\u001b[39m\u001b[38;5;124m'\u001b[39m]\u001b[38;5;241m.\u001b[39mstr\u001b[38;5;241m.\u001b[39mextract(\u001b[38;5;124mr\u001b[39m\u001b[38;5;124m'\u001b[39m\u001b[38;5;124m(\u001b[39m\u001b[38;5;124m\\\u001b[39m\u001b[38;5;124mw+\u001b[39m\u001b[38;5;124m\\\u001b[39m\u001b[38;5;124ms?[A-Za-z]+)\u001b[39m\u001b[38;5;130;01m\\'\u001b[39;00m\u001b[38;5;124m]$\u001b[39m\u001b[38;5;124m'\u001b[39m)\n",
      "File \u001b[1;32m~\\AppData\\Local\\Programs\\Python\\Python312\\Lib\\site-packages\\pandas\\core\\generic.py:6299\u001b[0m, in \u001b[0;36mNDFrame.__getattr__\u001b[1;34m(self, name)\u001b[0m\n\u001b[0;32m   6292\u001b[0m \u001b[38;5;28;01mif\u001b[39;00m (\n\u001b[0;32m   6293\u001b[0m     name \u001b[38;5;129;01mnot\u001b[39;00m \u001b[38;5;129;01min\u001b[39;00m \u001b[38;5;28mself\u001b[39m\u001b[38;5;241m.\u001b[39m_internal_names_set\n\u001b[0;32m   6294\u001b[0m     \u001b[38;5;129;01mand\u001b[39;00m name \u001b[38;5;129;01mnot\u001b[39;00m \u001b[38;5;129;01min\u001b[39;00m \u001b[38;5;28mself\u001b[39m\u001b[38;5;241m.\u001b[39m_metadata\n\u001b[0;32m   6295\u001b[0m     \u001b[38;5;129;01mand\u001b[39;00m name \u001b[38;5;129;01mnot\u001b[39;00m \u001b[38;5;129;01min\u001b[39;00m \u001b[38;5;28mself\u001b[39m\u001b[38;5;241m.\u001b[39m_accessors\n\u001b[0;32m   6296\u001b[0m     \u001b[38;5;129;01mand\u001b[39;00m \u001b[38;5;28mself\u001b[39m\u001b[38;5;241m.\u001b[39m_info_axis\u001b[38;5;241m.\u001b[39m_can_hold_identifiers_and_holds_name(name)\n\u001b[0;32m   6297\u001b[0m ):\n\u001b[0;32m   6298\u001b[0m     \u001b[38;5;28;01mreturn\u001b[39;00m \u001b[38;5;28mself\u001b[39m[name]\n\u001b[1;32m-> 6299\u001b[0m \u001b[38;5;28;01mreturn\u001b[39;00m \u001b[38;5;28;43mobject\u001b[39;49m\u001b[38;5;241;43m.\u001b[39;49m\u001b[38;5;21;43m__getattribute__\u001b[39;49m\u001b[43m(\u001b[49m\u001b[38;5;28;43mself\u001b[39;49m\u001b[43m,\u001b[49m\u001b[43m \u001b[49m\u001b[43mname\u001b[49m\u001b[43m)\u001b[49m\n",
      "File \u001b[1;32m~\\AppData\\Local\\Programs\\Python\\Python312\\Lib\\site-packages\\pandas\\core\\accessor.py:224\u001b[0m, in \u001b[0;36mCachedAccessor.__get__\u001b[1;34m(self, obj, cls)\u001b[0m\n\u001b[0;32m    221\u001b[0m \u001b[38;5;28;01mif\u001b[39;00m obj \u001b[38;5;129;01mis\u001b[39;00m \u001b[38;5;28;01mNone\u001b[39;00m:\n\u001b[0;32m    222\u001b[0m     \u001b[38;5;66;03m# we're accessing the attribute of the class, i.e., Dataset.geo\u001b[39;00m\n\u001b[0;32m    223\u001b[0m     \u001b[38;5;28;01mreturn\u001b[39;00m \u001b[38;5;28mself\u001b[39m\u001b[38;5;241m.\u001b[39m_accessor\n\u001b[1;32m--> 224\u001b[0m accessor_obj \u001b[38;5;241m=\u001b[39m \u001b[38;5;28;43mself\u001b[39;49m\u001b[38;5;241;43m.\u001b[39;49m\u001b[43m_accessor\u001b[49m\u001b[43m(\u001b[49m\u001b[43mobj\u001b[49m\u001b[43m)\u001b[49m\n\u001b[0;32m    225\u001b[0m \u001b[38;5;66;03m# Replace the property with the accessor object. Inspired by:\u001b[39;00m\n\u001b[0;32m    226\u001b[0m \u001b[38;5;66;03m# https://www.pydanny.com/cached-property.html\u001b[39;00m\n\u001b[0;32m    227\u001b[0m \u001b[38;5;66;03m# We need to use object.__setattr__ because we overwrite __setattr__ on\u001b[39;00m\n\u001b[0;32m    228\u001b[0m \u001b[38;5;66;03m# NDFrame\u001b[39;00m\n\u001b[0;32m    229\u001b[0m \u001b[38;5;28mobject\u001b[39m\u001b[38;5;241m.\u001b[39m\u001b[38;5;21m__setattr__\u001b[39m(obj, \u001b[38;5;28mself\u001b[39m\u001b[38;5;241m.\u001b[39m_name, accessor_obj)\n",
      "File \u001b[1;32m~\\AppData\\Local\\Programs\\Python\\Python312\\Lib\\site-packages\\pandas\\core\\strings\\accessor.py:191\u001b[0m, in \u001b[0;36mStringMethods.__init__\u001b[1;34m(self, data)\u001b[0m\n\u001b[0;32m    188\u001b[0m \u001b[38;5;28;01mdef\u001b[39;00m \u001b[38;5;21m__init__\u001b[39m(\u001b[38;5;28mself\u001b[39m, data) \u001b[38;5;241m-\u001b[39m\u001b[38;5;241m>\u001b[39m \u001b[38;5;28;01mNone\u001b[39;00m:\n\u001b[0;32m    189\u001b[0m     \u001b[38;5;28;01mfrom\u001b[39;00m \u001b[38;5;21;01mpandas\u001b[39;00m\u001b[38;5;21;01m.\u001b[39;00m\u001b[38;5;21;01mcore\u001b[39;00m\u001b[38;5;21;01m.\u001b[39;00m\u001b[38;5;21;01marrays\u001b[39;00m\u001b[38;5;21;01m.\u001b[39;00m\u001b[38;5;21;01mstring_\u001b[39;00m \u001b[38;5;28;01mimport\u001b[39;00m StringDtype\n\u001b[1;32m--> 191\u001b[0m     \u001b[38;5;28mself\u001b[39m\u001b[38;5;241m.\u001b[39m_inferred_dtype \u001b[38;5;241m=\u001b[39m \u001b[38;5;28;43mself\u001b[39;49m\u001b[38;5;241;43m.\u001b[39;49m\u001b[43m_validate\u001b[49m\u001b[43m(\u001b[49m\u001b[43mdata\u001b[49m\u001b[43m)\u001b[49m\n\u001b[0;32m    192\u001b[0m     \u001b[38;5;28mself\u001b[39m\u001b[38;5;241m.\u001b[39m_is_categorical \u001b[38;5;241m=\u001b[39m \u001b[38;5;28misinstance\u001b[39m(data\u001b[38;5;241m.\u001b[39mdtype, CategoricalDtype)\n\u001b[0;32m    193\u001b[0m     \u001b[38;5;28mself\u001b[39m\u001b[38;5;241m.\u001b[39m_is_string \u001b[38;5;241m=\u001b[39m \u001b[38;5;28misinstance\u001b[39m(data\u001b[38;5;241m.\u001b[39mdtype, StringDtype)\n",
      "File \u001b[1;32m~\\AppData\\Local\\Programs\\Python\\Python312\\Lib\\site-packages\\pandas\\core\\strings\\accessor.py:245\u001b[0m, in \u001b[0;36mStringMethods._validate\u001b[1;34m(data)\u001b[0m\n\u001b[0;32m    242\u001b[0m inferred_dtype \u001b[38;5;241m=\u001b[39m lib\u001b[38;5;241m.\u001b[39minfer_dtype(values, skipna\u001b[38;5;241m=\u001b[39m\u001b[38;5;28;01mTrue\u001b[39;00m)\n\u001b[0;32m    244\u001b[0m \u001b[38;5;28;01mif\u001b[39;00m inferred_dtype \u001b[38;5;129;01mnot\u001b[39;00m \u001b[38;5;129;01min\u001b[39;00m allowed_types:\n\u001b[1;32m--> 245\u001b[0m     \u001b[38;5;28;01mraise\u001b[39;00m \u001b[38;5;167;01mAttributeError\u001b[39;00m(\u001b[38;5;124m\"\u001b[39m\u001b[38;5;124mCan only use .str accessor with string values!\u001b[39m\u001b[38;5;124m\"\u001b[39m)\n\u001b[0;32m    246\u001b[0m \u001b[38;5;28;01mreturn\u001b[39;00m inferred_dtype\n",
      "\u001b[1;31mAttributeError\u001b[0m: Can only use .str accessor with string values!"
     ]
    }
   ],
   "source": [
    "# # Mengekstrak jumlah halaman dan menghilangkan tanda kurung dan kutip\n",
    "# book_details['num_pages'] = book_details['num_pages'].str.strip(\"[]'\")\n",
    "\n",
    "# # Menghilangkan tanda kurung dan kutip pada kolom format\n",
    "# book_details['format'] = book_details['format'].str.strip(\"[]'\")\n",
    "\n",
    "# # Menghapus bagian \"x pages,\" dari kolom book_details untuk mendapatkan format buku\n",
    "# book_details['format'] = book_details['format'].str.extract(r'pages, (.+)')[0]\n",
    "\n",
    "# Mengekstrak format\n",
    "book_details['format'] = book_details['format'].str.extract(r'(\\w+\\s?[A-Za-z]+)\\']$')\n",
    "\n",
    "# Menghilangkan tanda kurung dan tanda kutip dari kolom format\n",
    "book_details['format'] = book_details['format'].str.strip(\"[]'\")\n",
    "\n",
    "# Menghilangkan tanda kurung siku dari kolom num_pages\n",
    "book_details['num_pages'] = book_details['num_pages'].str.strip(\"[]'\")\n",
    "\n",
    "book_details = book_details.dropna(subset=['format'])"
   ]
  },
  {
   "cell_type": "code",
   "execution_count": 386,
   "id": "aa3c5820-9f51-493a-9540-caaea2c002e3",
   "metadata": {},
   "outputs": [],
   "source": [
    "# Mengganti nilai 'None' dengan 0\n",
    "book_details['num_pages'] = book_details['num_pages'].replace(['None', ''], 0)"
   ]
  },
  {
   "cell_type": "code",
   "execution_count": 387,
   "id": "8de2d796-50b9-491e-9197-288e6ff736ff",
   "metadata": {},
   "outputs": [],
   "source": [
    "# Mengonversi kolom num_pages menjadi integer\n",
    "book_details['num_pages'] = book_details['num_pages'].astype(int)"
   ]
  },
  {
   "cell_type": "code",
   "execution_count": 393,
   "id": "2d17a5ef-6feb-4611-95fd-65549a463417",
   "metadata": {},
   "outputs": [
    {
     "data": {
      "text/plain": [
       "book_id                0\n",
       "cover_image_uri        0\n",
       "book_title             0\n",
       "book_details           0\n",
       "format                 3\n",
       "publication_info       0\n",
       "authorlink             0\n",
       "author                 0\n",
       "num_pages              0\n",
       "genres                 0\n",
       "num_ratings            0\n",
       "num_reviews            0\n",
       "average_rating         0\n",
       "rating_distribution    0\n",
       "dtype: int64"
      ]
     },
     "execution_count": 393,
     "metadata": {},
     "output_type": "execute_result"
    }
   ],
   "source": [
    "book_details.isnull().sum()"
   ]
  },
  {
   "cell_type": "code",
   "execution_count": 389,
   "id": "6eeba765-a8dd-4aa3-ac0d-2a3b64dad5b3",
   "metadata": {},
   "outputs": [
    {
     "name": "stdout",
     "output_type": "stream",
     "text": [
      "                                           book_title  missing_count\n",
      "0                                         Ace Of Aces              1\n",
      "1                                    Armée des ombres              1\n",
      "2   Band 1: Einde van een wereld & Tussen twee wer...              1\n",
      "3         Behind the State Capitol or Cincinnati Pike              1\n",
      "4                           Bill Cosby: Coming at You              1\n",
      "5                                    Dogs in Lingerie              1\n",
      "6                  Fla-Flu e as multidões despertaram              1\n",
      "7                                 Fugle omkring fyret              1\n",
      "8   Ghosts And Scholars: Ghost Stories In The Trad...              1\n",
      "9                    Helping the Retarded to Know God              1\n",
      "10  Holocaust Denial: Antisemitism, Racism and the...              1\n",
      "11                         Horatio Hornblower 1 - 11.              1\n",
      "12  Human rights and legal defense in Northern Ire...              1\n",
      "13                                    Jadilah Istriku              1\n",
      "14                  Kecksies and Other Twilight Tales              1\n",
      "15                                          Mad Death              1\n",
      "16   March of the Titans: A History of the White Race              1\n",
      "17                        Miscellaneous Stuff & Stuff              1\n",
      "18  Papst Benedikt XVI.: Jesus von Nazareth aß kei...              1\n",
      "19                                 Richard's Cork Leg              1\n",
      "20                        Saga of Darren Shan Box Set              1\n",
      "21                                        Space Casey              1\n",
      "22                  The Atlantic Monthly Puzzler Book              1\n",
      "23                                      The Brainwave              1\n",
      "24                                         The Helmet              1\n",
      "25                          The Knights of King Midas              1\n",
      "26                                       The Oil Card              1\n",
      "27           The Original Dr. Shade and Other Stories              1\n",
      "28                           The divine and the decay              1\n",
      "29                                             Εξορία              1\n",
      "30                                 Ποιήματα 1978-1987              1\n",
      "31                                     Τα ποιήματα Β΄              1\n",
      "32                   Пальмове гилля. Екзотичні поезиї              1\n",
      "33                                        جنگل واژگون              1\n",
      "34                                            مصرائيل              1\n",
      "35  დიდოსტატის კონსტანტინეს მარჯვენა; დიონისოს ღიმილი              1\n",
      "36              ვატერ(პო)ლოო ანუ აღდგენითი სამუშაოები              1\n"
     ]
    }
   ],
   "source": [
    "# Menemukan baris di mana book_details adalah missing values\n",
    "missing_book_details = book_details[book_details['book_details'].isna()]\n",
    "\n",
    "# Mengelompokkan data berdasarkan book_title dan menghitung jumlah missing values di book_details\n",
    "missing_grouped = missing_book_details.groupby('book_title').size().reset_index(name='missing_count')\n",
    "\n",
    "print(missing_grouped)"
   ]
  },
  {
   "cell_type": "code",
   "execution_count": 390,
   "id": "a02e7610-945b-4a77-8e1f-97468cc3d1b0",
   "metadata": {},
   "outputs": [],
   "source": [
    "book_details['book_details'] = book_details['book_details'].fillna(\"Tidak Ada Ringkasan Tersedia\")"
   ]
  },
  {
   "cell_type": "code",
   "execution_count": 368,
   "id": "1c27a844-d9a0-4405-b599-bf2d35eb0130",
   "metadata": {},
   "outputs": [
    {
     "data": {
      "text/plain": [
       "book_id                   object\n",
       "reviewer_id               object\n",
       "reviewer_name             object\n",
       "likes_on_review           object\n",
       "review_content            object\n",
       "reviewer_followers        object\n",
       "reviewer_total_reviews    object\n",
       "review_date               object\n",
       "review_rating             object\n",
       "dtype: object"
      ]
     },
     "execution_count": 368,
     "metadata": {},
     "output_type": "execute_result"
    }
   ],
   "source": [
    "book_reviews.dtypes"
   ]
  },
  {
   "cell_type": "code",
   "execution_count": 49,
   "id": "eaaf156d-bbc4-4b89-8286-5c092e0ecbc4",
   "metadata": {},
   "outputs": [
    {
     "data": {
      "text/plain": [
       "book_id                   0\n",
       "reviewer_id               0\n",
       "reviewer_name             0\n",
       "likes_on_review           0\n",
       "review_content            0\n",
       "reviewer_followers        0\n",
       "reviewer_total_reviews    0\n",
       "review_date               0\n",
       "review_rating             0\n",
       "dtype: int64"
      ]
     },
     "execution_count": 49,
     "metadata": {},
     "output_type": "execute_result"
    }
   ],
   "source": [
    "book_reviews.isnull().sum()"
   ]
  },
  {
   "cell_type": "code",
   "execution_count": 48,
   "id": "9b9258a5-43ca-4d89-8423-2739a75cb78f",
   "metadata": {},
   "outputs": [
    {
     "data": {
      "text/plain": [
       "0      582\n",
       "1      329\n",
       "2      232\n",
       "3      218\n",
       "4      174\n",
       "5        0\n",
       "6      110\n",
       "7       88\n",
       "8       86\n",
       "10     155\n",
       "11     137\n",
       "12     107\n",
       "13    6404\n",
       "14    2462\n",
       "16     736\n",
       "17    2013\n",
       "18     338\n",
       "19     191\n",
       "20     166\n",
       "21      97\n",
       "23     824\n",
       "24    1035\n",
       "25     987\n",
       "26     570\n",
       "28     916\n",
       "29     647\n",
       "30     446\n",
       "31     426\n",
       "32     270\n",
       "33     164\n",
       "34     136\n",
       "35      75\n",
       "36      62\n",
       "37      51\n",
       "38     368\n",
       "39     310\n",
       "40     207\n",
       "42     109\n",
       "43     338\n",
       "44     289\n",
       "45     125\n",
       "46     113\n",
       "47     111\n",
       "48     156\n",
       "49     142\n",
       "50     110\n",
       "51      84\n",
       "52      86\n",
       "53     400\n",
       "55      69\n",
       "Name: likes_on_review, dtype: int32"
      ]
     },
     "execution_count": 48,
     "metadata": {},
     "output_type": "execute_result"
    }
   ],
   "source": [
    "book_reviews['likes_on_review'].head(50)"
   ]
  },
  {
   "cell_type": "code",
   "execution_count": 39,
   "id": "cf16edfe-9d90-4b24-8353-cd19f39a3495",
   "metadata": {},
   "outputs": [],
   "source": [
    "book_reviews['book_id'] = book_reviews['book_id'].astype(int)"
   ]
  },
  {
   "cell_type": "code",
   "execution_count": 43,
   "id": "be3d1958-132f-4a11-91c6-46451c4de5ce",
   "metadata": {},
   "outputs": [],
   "source": [
    "#hilangkan dlu kata-kata likes, followers, dan reviews\n",
    "book_reviews['likes_on_review'] = book_reviews['likes_on_review'].str.replace(\"likes\", \"\")\n",
    "book_reviews['reviewer_total_reviews'] = book_reviews['reviewer_total_reviews'].str.replace(\"reviews\", \"\")\n",
    "book_reviews['reviewer_followers'] = book_reviews['reviewer_followers'].str.replace(r'\\bfollowers?\\b', '', regex=True).str.strip()\n",
    "# Menghapus baris dengan nilai 'Author' di kolom 'reviewer_followers'\n",
    "book_reviews = book_reviews[book_reviews['reviewer_followers'] != 'Author']"
   ]
  },
  {
   "cell_type": "code",
   "execution_count": 45,
   "id": "81b8b4f9-e273-4c50-8a27-37300b42195e",
   "metadata": {},
   "outputs": [],
   "source": [
    "import re\n",
    "\n",
    "# Daftar kolom yang akan diubah\n",
    "columns_to_process = ['likes_on_review', 'reviewer_total_reviews', 'reviewer_followers']\n",
    "\n",
    "# Fungsi untuk menghapus karakter \"k\" dan mengonversi ke integer\n",
    "def remove_k_and_convert_to_int(value):\n",
    "    if pd.isnull(value):  # Jika nilai kosong, kembalikan nilai None\n",
    "        return None\n",
    "    else:\n",
    "        # Gunakan ekspresi reguler untuk menghapus karakter \"k\" dan konversi ke integer\n",
    "        numeric_value = re.sub(r'[^\\d.]', '', value)\n",
    "        return float(numeric_value)\n",
    "\n",
    "# Iterasi melalui setiap kolom\n",
    "for col in columns_to_process:\n",
    "    # Menghapus karakter \"k\" dan mengonversi ke integer untuk setiap nilai dalam kolom\n",
    "    book_reviews[col] = book_reviews[col].apply(remove_k_and_convert_to_int)"
   ]
  },
  {
   "cell_type": "code",
   "execution_count": 41,
   "id": "6b4fc208-2e2b-4856-a084-79e95c3ba443",
   "metadata": {},
   "outputs": [],
   "source": [
    "for col in [\"likes_on_review\", \"reviewer_total_reviews\", \"reviewer_followers\"]:\n",
    "    # Hapus nilai None di kolom yang sedang diproses\n",
    "    book_reviews = book_reviews.fillna('0')"
   ]
  },
  {
   "cell_type": "code",
   "execution_count": 47,
   "id": "98d097ce-7754-4088-b97a-6284cd9f8202",
   "metadata": {},
   "outputs": [],
   "source": [
    "#ubah jadi int\n",
    "for col in [\"likes_on_review\", \"reviewer_total_reviews\", \"reviewer_followers\" , \"reviewer_id\", \"book_id\"]:\n",
    "    book_reviews[col] = book_reviews[col].astype(int)"
   ]
  },
  {
   "cell_type": "code",
   "execution_count": 54,
   "id": "70c875a4-19ae-4ee8-98d0-82d3cf118c2e",
   "metadata": {},
   "outputs": [
    {
     "data": {
      "text/plain": [
       "0       2021-02-24\n",
       "1       2024-03-17\n",
       "2       2022-09-05\n",
       "3       2021-06-03\n",
       "4       2021-06-09\n",
       "           ...    \n",
       "63009   2021-09-16\n",
       "63010   2022-01-06\n",
       "63011   2015-08-09\n",
       "63012   2016-04-29\n",
       "63013   2017-03-08\n",
       "Name: review_date, Length: 55091, dtype: datetime64[ns]"
      ]
     },
     "execution_count": 54,
     "metadata": {},
     "output_type": "execute_result"
    }
   ],
   "source": [
    "#sekarang lanjut review_date\n",
    "book_reviews[\"review_date\"]"
   ]
  },
  {
   "cell_type": "code",
   "execution_count": 53,
   "id": "51fdf5a0-f9f9-4cce-9793-990f03eb3567",
   "metadata": {},
   "outputs": [],
   "source": [
    "# Mengubah format tanggal menjadi \"YYYY-MM-DD\" dan mengonversi ke tipe data datetime\n",
    "book_reviews['review_date'] = pd.to_datetime(book_reviews['review_date'], format='%B %d, %Y')"
   ]
  },
  {
   "cell_type": "code",
   "execution_count": 22,
   "id": "dad5e2ea-770d-422f-9ff4-f8bea99e9f90",
   "metadata": {},
   "outputs": [
    {
     "data": {
      "text/plain": [
       "0        1\n",
       "1        5\n",
       "2        3\n",
       "3        1\n",
       "4        2\n",
       "        ..\n",
       "63009    5\n",
       "63010    3\n",
       "63011    2\n",
       "63012    4\n",
       "63013    4\n",
       "Name: review_rating, Length: 49364, dtype: int32"
      ]
     },
     "execution_count": 22,
     "metadata": {},
     "output_type": "execute_result"
    }
   ],
   "source": [
    "book_reviews[\"review_rating\"]"
   ]
  },
  {
   "cell_type": "code",
   "execution_count": 51,
   "id": "08a1c067-4c0f-4f82-bb60-e36753b60d32",
   "metadata": {},
   "outputs": [],
   "source": [
    "# Mengganti nilai None dengan \"Rating 1 out of 5\"\n",
    "book_reviews['review_rating'] = book_reviews['review_rating'].fillna('Rating 0 out of 5')\n",
    "\n",
    "# Membersihkan teks dengan menghapus kata \"Rating\" dan \"out of 5\"\n",
    "book_reviews['review_rating'] = book_reviews['review_rating'].str.replace(r'Rating (\\d) out of 5', r'\\1', regex=True)\n",
    "\n",
    "# Mengonversi nilai rating menjadi tipe data integer\n",
    "book_reviews['review_rating'] = book_reviews['review_rating'].astype(int)"
   ]
  },
  {
   "cell_type": "code",
   "execution_count": null,
   "id": "27666000-9b29-4dae-b210-36f90f0a30a7",
   "metadata": {},
   "outputs": [],
   "source": []
  }
 ],
 "metadata": {
  "kernelspec": {
   "display_name": "Python 3 (ipykernel)",
   "language": "python",
   "name": "python3"
  },
  "language_info": {
   "codemirror_mode": {
    "name": "ipython",
    "version": 3
   },
   "file_extension": ".py",
   "mimetype": "text/x-python",
   "name": "python",
   "nbconvert_exporter": "python",
   "pygments_lexer": "ipython3",
   "version": "3.12.3"
  }
 },
 "nbformat": 4,
 "nbformat_minor": 5
}
